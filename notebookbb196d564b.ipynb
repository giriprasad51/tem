{
 "cells": [
  {
   "cell_type": "code",
   "execution_count": 1,
   "id": "c53f16ca",
   "metadata": {
    "_cell_guid": "b1076dfc-b9ad-4769-8c92-a6c4dae69d19",
    "_uuid": "8f2839f25d086af736a60e9eeb907d3b93b6e0e5",
    "execution": {
     "iopub.execute_input": "2023-07-03T09:15:57.411287Z",
     "iopub.status.busy": "2023-07-03T09:15:57.410830Z",
     "iopub.status.idle": "2023-07-03T09:15:57.420645Z",
     "shell.execute_reply": "2023-07-03T09:15:57.419818Z"
    },
    "papermill": {
     "duration": 0.015593,
     "end_time": "2023-07-03T09:15:57.422654",
     "exception": false,
     "start_time": "2023-07-03T09:15:57.407061",
     "status": "completed"
    },
    "tags": []
   },
   "outputs": [],
   "source": [
    "import sys\n",
    "sys.path.append(\"/kaggle/input/smp-github/\")\n",
    "#import segmentation_models_pytorch as smp"
   ]
  },
  {
   "cell_type": "code",
   "execution_count": null,
   "id": "5952bd01",
   "metadata": {
    "execution": {
     "iopub.status.busy": "2023-07-03T05:44:10.518034Z",
     "iopub.status.idle": "2023-07-03T05:44:10.518915Z",
     "shell.execute_reply": "2023-07-03T05:44:10.518659Z",
     "shell.execute_reply.started": "2023-07-03T05:44:10.518630Z"
    },
    "papermill": {
     "duration": 0.001283,
     "end_time": "2023-07-03T09:15:57.425738",
     "exception": false,
     "start_time": "2023-07-03T09:15:57.424455",
     "status": "completed"
    },
    "tags": []
   },
   "outputs": [],
   "source": []
  }
 ],
 "metadata": {
  "kernelspec": {
   "display_name": "Python 3",
   "language": "python",
   "name": "python3"
  },
  "language_info": {
   "codemirror_mode": {
    "name": "ipython",
    "version": 3
   },
   "file_extension": ".py",
   "mimetype": "text/x-python",
   "name": "python",
   "nbconvert_exporter": "python",
   "pygments_lexer": "ipython3",
   "version": "3.10.10"
  },
  "papermill": {
   "default_parameters": {},
   "duration": 11.480515,
   "end_time": "2023-07-03T09:15:58.247222",
   "environment_variables": {},
   "exception": null,
   "input_path": "__notebook__.ipynb",
   "output_path": "__notebook__.ipynb",
   "parameters": {},
   "start_time": "2023-07-03T09:15:46.766707",
   "version": "2.4.0"
  }
 },
 "nbformat": 4,
 "nbformat_minor": 5
}
